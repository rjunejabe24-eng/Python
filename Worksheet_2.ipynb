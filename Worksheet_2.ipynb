{
  "nbformat": 4,
  "nbformat_minor": 0,
  "metadata": {
    "colab": {
      "provenance": [],
      "authorship_tag": "ABX9TyMZLe0Tj2eUFo6Irzfqlip8",
      "include_colab_link": true
    },
    "kernelspec": {
      "name": "python3",
      "display_name": "Python 3"
    },
    "language_info": {
      "name": "python"
    }
  },
  "cells": [
    {
      "cell_type": "markdown",
      "metadata": {
        "id": "view-in-github",
        "colab_type": "text"
      },
      "source": [
        "<a href=\"https://colab.research.google.com/github/rjunejabe24-eng/Python/blob/main/Worksheet_2.ipynb\" target=\"_parent\"><img src=\"https://colab.research.google.com/assets/colab-badge.svg\" alt=\"Open In Colab\"/></a>"
      ]
    },
    {
      "cell_type": "markdown",
      "source": [
        "Reedhima Juneja: 1024230091"
      ],
      "metadata": {
        "id": "I5sJC9kOEcA9"
      }
    },
    {
      "cell_type": "markdown",
      "source": [
        "Question 1:"
      ],
      "metadata": {
        "id": "gJU-cfmHEgzT"
      }
    },
    {
      "cell_type": "code",
      "execution_count": 2,
      "metadata": {
        "colab": {
          "base_uri": "https://localhost:8080/"
        },
        "id": "wkkVHOFq9AM9",
        "outputId": "12faff77-c2f3-41b4-837b-6347352c9f7b"
      },
      "outputs": [
        {
          "output_type": "stream",
          "name": "stdout",
          "text": [
            "(i) [11, 12, 13, 14, 50, 60]\n",
            "(ii) [12, 14, 50, 60]\n",
            "(iii) [12, 14, 50, 60]\n",
            "(iv) [60, 50, 14, 12]\n",
            "(v) 13 is NOT present in L\n",
            "(vi) 4\n",
            "(vii) 136\n",
            "(viii) 0\n",
            "(ix) 136\n",
            "(x) 0\n",
            "(xi) []\n",
            "(xii) L is deleted\n"
          ]
        }
      ],
      "source": [
        "# Initial List\n",
        "L = [11, 12, 13, 14]\n",
        "\n",
        "# (i) Add 50 and 60 to L\n",
        "L.append(50)\n",
        "L.append(60)\n",
        "print(\"(i)\", L)\n",
        "\n",
        "# (ii) Remove 11 and 13 from L\n",
        "if 11 in L:\n",
        "    L.remove(11)\n",
        "if 13 in L:\n",
        "    L.remove(13)\n",
        "print(\"(ii)\", L)\n",
        "\n",
        "# (iii) Sort L in ascending order\n",
        "L.sort()\n",
        "print(\"(iii)\", L)\n",
        "\n",
        "# (iv) Sort L in descending order\n",
        "L.sort(reverse=True)\n",
        "print(\"(iv)\", L)\n",
        "\n",
        "# (v) Search for 13 in L\n",
        "if 13 in L:\n",
        "    print(\"(v) 13 is present in L\")\n",
        "else:\n",
        "    print(\"(v) 13 is NOT present in L\")\n",
        "\n",
        "# (vi) Count number of elements in L\n",
        "print(\"(vi)\", len(L))\n",
        "\n",
        "# (vii) Sum of all elements in L\n",
        "print(\"(vii)\", sum(L))\n",
        "\n",
        "# (viii) Sum of all ODD numbers in L\n",
        "odd_sum = sum(x for x in L if x % 2 != 0)\n",
        "print(\"(viii)\", odd_sum)\n",
        "\n",
        "# (ix) Sum of all EVEN numbers in L\n",
        "even_sum = sum(x for x in L if x % 2 == 0)\n",
        "print(\"(ix)\", even_sum)\n",
        "\n",
        "# (x) Sum of all PRIME numbers in L\n",
        "def is_prime(n):\n",
        "    if n < 2:\n",
        "        return False\n",
        "    for i in range(2, int(n**0.5) + 1):\n",
        "        if n % i == 0:\n",
        "            return False\n",
        "    return True\n",
        "\n",
        "prime_sum = sum(x for x in L if is_prime(x))\n",
        "print(\"(x)\", prime_sum)\n",
        "\n",
        "# (xi) Clear all elements in L\n",
        "L.clear()\n",
        "print(\"(xi)\", L)\n",
        "\n",
        "# (xii) Delete L\n",
        "del L\n",
        "# print(L)  # This will give an error since L is deleted\n",
        "print(\"(xii) L is deleted\")\n"
      ]
    },
    {
      "cell_type": "markdown",
      "source": [
        "Question 2:"
      ],
      "metadata": {
        "id": "2RCTWyxrFE7q"
      }
    },
    {
      "cell_type": "code",
      "source": [
        "L = [11, 12, 13, 14, 15]\n",
        "\n",
        "total = 0\n",
        "for item in L:\n",
        "    total = total + item\n",
        "\n",
        "print(\"Sum of all items in the list:\", total)"
      ],
      "metadata": {
        "colab": {
          "base_uri": "https://localhost:8080/"
        },
        "id": "mPvKe26hFGvG",
        "outputId": "aa220bca-a43f-4612-9f80-e0d321438464"
      },
      "execution_count": 3,
      "outputs": [
        {
          "output_type": "stream",
          "name": "stdout",
          "text": [
            "Sum of all items in the list: 65\n"
          ]
        }
      ]
    },
    {
      "cell_type": "markdown",
      "source": [
        "Question 3:"
      ],
      "metadata": {
        "id": "nmWhqPfLFWVx"
      }
    },
    {
      "cell_type": "code",
      "source": [
        "L = [2, 3, 4, 5]\n",
        "\n",
        "product = 1\n",
        "for item in L:\n",
        "    product = product * item\n",
        "\n",
        "print(\"Product of all items in list:\", product)"
      ],
      "metadata": {
        "id": "WlRbzBKjFYL1"
      },
      "execution_count": null,
      "outputs": []
    },
    {
      "cell_type": "markdown",
      "source": [
        "Question 4:"
      ],
      "metadata": {
        "id": "BSVvFN1iFmMq"
      }
    },
    {
      "cell_type": "code",
      "source": [
        "L = [2, 3, 4, 5]\n",
        "\n",
        "array = [[['*' for _ in range(6)] for _ in range(4)] for _ in range(3)]\n",
        "\n",
        "print(array)"
      ],
      "metadata": {
        "id": "2vDUpySUFqox"
      },
      "execution_count": null,
      "outputs": []
    },
    {
      "cell_type": "markdown",
      "source": [
        "Question 5:"
      ],
      "metadata": {
        "id": "XaIAoxJWFr8U"
      }
    },
    {
      "cell_type": "code",
      "source": [
        "D = {1:5.6, 2:7.8, 3:6.6, 4:8.7, 5:7.7}\n",
        "\n",
        "# (i) Add new entry (key=8, value=8.8)\n",
        "D[8] = 8.8\n",
        "print(\"(i)\", D)\n",
        "\n",
        "# (ii) Remove key=2\n",
        "if 2 in D:\n",
        "    D.pop(2)\n",
        "print(\"(ii)\", D)\n",
        "\n",
        "# (iii) Check whether key=6 is present\n",
        "if 6 in D:\n",
        "    print(\"(iii) Key 6 is present\")\n",
        "else:\n",
        "    print(\"(iii) Key 6 is NOT present\")\n",
        "\n",
        "# (iv) Count number of elements\n",
        "print(\"(iv) Number of elements:\", len(D))\n",
        "\n",
        "# (v) Add all values (manual sum without sum())\n",
        "total = 0\n",
        "for value in D.values():\n",
        "    total = total + value\n",
        "print(\"(v) Sum of values:\", total)\n",
        "\n",
        "# (vi) Update value of key=3 to 7.1\n",
        "if 3 in D:\n",
        "    D[3] = 7.1\n",
        "print(\"(vi)\", D)\n",
        "\n",
        "# (vii) Clear dictionary\n",
        "D.clear()\n",
        "print(\"(vii)\", D)\n"
      ],
      "metadata": {
        "id": "-zgoR9sqF4r4"
      },
      "execution_count": null,
      "outputs": []
    },
    {
      "cell_type": "markdown",
      "source": [
        "Question 6"
      ],
      "metadata": {
        "id": "K_Y_eu9-F84w"
      }
    },
    {
      "cell_type": "code",
      "source": [
        "S1 = {10, 20, 30, 40, 50, 60}\n",
        "S2 = {40, 50, 60, 70, 80, 90}\n",
        "\n",
        "# (i) Add 55 and 66 in S1\n",
        "S1.add(55)\n",
        "S1.add(66)\n",
        "print(\"(i)\", S1)\n",
        "\n",
        "# (ii) Remove 10 and 30 from S1\n",
        "S1.discard(10)  # discard avoids error if element not found\n",
        "S1.discard(30)\n",
        "print(\"(ii)\", S1)\n",
        "\n",
        "# (iii) Check if 40 is present in S1\n",
        "if 40 in S1:\n",
        "    print(\"(iii) 40 is present in S1\")\n",
        "else:\n",
        "    print(\"(iii) 40 is NOT present in S1\")\n",
        "\n",
        "# (iv) Union of S1 and S2\n",
        "print(\"(iv)\", S1.union(S2))\n",
        "\n",
        "# (v) Intersection of S1 and S2\n",
        "print(\"(v)\", S1.intersection(S2))\n",
        "\n",
        "# (vi) Difference S1 - S2\n",
        "print(\"(vi)\", S1 - S2)\n"
      ],
      "metadata": {
        "id": "QRP-wOJnF-GV"
      },
      "execution_count": null,
      "outputs": []
    },
    {
      "cell_type": "markdown",
      "source": [
        "QUestion 7"
      ],
      "metadata": {
        "id": "CwdY28VEGD4G"
      }
    },
    {
      "cell_type": "code",
      "source": [
        "# (i)\n",
        "import random\n",
        "import string\n",
        "\n",
        "for _ in range(100):\n",
        "    length = random.randint(6, 8)\n",
        "    rand_str = ''.join(random.choice(string.ascii_letters) for _ in range(length))\n",
        "    print(rand_str)\n",
        "# (ii)\n",
        "def is_prime(n):\n",
        "    if n < 2:\n",
        "        return False\n",
        "    for i in range(2, int(n**0.5) + 1):\n",
        "        if n % i == 0:\n",
        "            return False\n",
        "    return True\n",
        "\n",
        "for num in range(600, 801):\n",
        "    if is_prime(num):\n",
        "        print(num, end=\" \")\n",
        "#(iii)\n",
        "for num in range(100, 1001):\n",
        "    if num % 7 == 0 and num % 9 == 0:\n",
        "        print(num, end=\" \")"
      ],
      "metadata": {
        "id": "zjdt5QPQGFGE"
      },
      "execution_count": null,
      "outputs": []
    },
    {
      "cell_type": "markdown",
      "source": [
        "Question 8:"
      ],
      "metadata": {
        "id": "VVbDUSpyGc1U"
      }
    },
    {
      "cell_type": "code",
      "source": [
        "exam_st_date = (11, 12, 2025)\n",
        "print(\"The examination will start from: %i / %i / %i\" % exam_st_date)"
      ],
      "metadata": {
        "id": "emrSoLxNGeVN"
      },
      "execution_count": null,
      "outputs": []
    },
    {
      "cell_type": "markdown",
      "source": [
        "QUestion 9"
      ],
      "metadata": {
        "id": "G5YOoQYrGhX6"
      }
    },
    {
      "cell_type": "code",
      "source": [
        "numbers = [10, 23, 45, 66, 75, 90, 123]\n",
        "for n in numbers:\n",
        "    if n % 5 == 0:\n",
        "        print(n, end=\" \")"
      ],
      "metadata": {
        "id": "TlV7MVpQGie2"
      },
      "execution_count": null,
      "outputs": []
    },
    {
      "cell_type": "markdown",
      "source": [
        "Question 10"
      ],
      "metadata": {
        "id": "3McBXDa2Goiz"
      }
    },
    {
      "cell_type": "code",
      "source": [
        "n = int(input(\"Enter a number: \"))\n",
        "is_even = (n % 2 == 0)\n",
        "\n",
        "if is_even:\n",
        "    print(n, \"is Even\")\n",
        "else:\n",
        "    print(n, \"is Odd\")"
      ],
      "metadata": {
        "id": "hVkq0ABFGpwX"
      },
      "execution_count": null,
      "outputs": []
    },
    {
      "cell_type": "markdown",
      "source": [
        "Question 11"
      ],
      "metadata": {
        "id": "sEoiBOg4Gre3"
      }
    },
    {
      "cell_type": "code",
      "source": [
        "text = \"Emma is good. Emma likes coding. Emma is a student.\"\n",
        "count = 0\n",
        "sub = \"Emma\"\n",
        "\n",
        "for i in range(len(text) - len(sub) + 1):\n",
        "    if text[i:i+len(sub)] == sub:\n",
        "        count += 1\n",
        "\n",
        "print(\"Emma appears\", count, \"times\")"
      ],
      "metadata": {
        "id": "FWOgZ8poGsph"
      },
      "execution_count": null,
      "outputs": []
    },
    {
      "cell_type": "markdown",
      "source": [
        "Question 12:"
      ],
      "metadata": {
        "id": "n9Ob31JdGyhe"
      }
    },
    {
      "cell_type": "code",
      "source": [
        "list1 = [10, 21, 32, 43, 55]\n",
        "list2 = [12, 25, 36, 47, 50]\n",
        "\n",
        "new_list = [x for x in list1 if x % 2 != 0] + [y for y in list2 if y % 2 == 0]\n",
        "print(\"New List:\", new_list)"
      ],
      "metadata": {
        "id": "Czks-sGTGzjB"
      },
      "execution_count": null,
      "outputs": []
    },
    {
      "cell_type": "markdown",
      "source": [
        "QUestion 13:"
      ],
      "metadata": {
        "id": "x3CR_E5cG03Z"
      }
    },
    {
      "cell_type": "code",
      "source": [
        "positions = [(2,3), (4,5), (6,7), (7,8)]\n",
        "\n",
        "even_positions = [pos for pos in positions if pos[0] % 2 == 0]\n",
        "print(\"Positions with even x-coordinate:\", even_positions)"
      ],
      "metadata": {
        "id": "8V4zkLjzG4vD"
      },
      "execution_count": null,
      "outputs": []
    },
    {
      "cell_type": "markdown",
      "source": [
        "Question 14"
      ],
      "metadata": {
        "id": "6hmRKkahG3P4"
      }
    },
    {
      "cell_type": "code",
      "source": [
        "sensor_data = {1: 2.3, 2: 4.5, 3: 1.8, 4: 3.6}\n",
        "\n",
        "above_three = [sensor_id for sensor_id, reading in sensor_data.items() if reading > 3.0]\n",
        "print(\"Sensor IDs with reading > 3.0:\", above_three)"
      ],
      "metadata": {
        "id": "wl2-Bnk_G7dB"
      },
      "execution_count": null,
      "outputs": []
    },
    {
      "cell_type": "markdown",
      "source": [
        "Question 15"
      ],
      "metadata": {
        "id": "e2sUGof8G_Cj"
      }
    },
    {
      "cell_type": "code",
      "source": [
        "commands_received = {\"MOVE\", \"TURN_LEFT\", \"TURN_RIGHT\", \"STOP\"}\n",
        "commands_executed = {\"MOVE\", \"TURN_LEFT\", \"STOP\"}\n",
        "\n",
        "not_executed = commands_received - commands_executed\n",
        "print(\"Commands not executed:\", not_executed)"
      ],
      "metadata": {
        "id": "kUao555sHFEt"
      },
      "execution_count": null,
      "outputs": []
    },
    {
      "cell_type": "markdown",
      "source": [],
      "metadata": {
        "id": "FCXe9xwoHESW"
      }
    }
  ]
}