{
  "nbformat": 4,
  "nbformat_minor": 0,
  "metadata": {
    "colab": {
      "provenance": [],
      "authorship_tag": "ABX9TyM4eHCQMIdiN+U8pNsJcD0U",
      "include_colab_link": true
    },
    "kernelspec": {
      "name": "python3",
      "display_name": "Python 3"
    },
    "language_info": {
      "name": "python"
    }
  },
  "cells": [
    {
      "cell_type": "markdown",
      "metadata": {
        "id": "view-in-github",
        "colab_type": "text"
      },
      "source": [
        "<a href=\"https://colab.research.google.com/github/rjunejabe24-eng/Python/blob/main/Worksheet_3.ipynb\" target=\"_parent\"><img src=\"https://colab.research.google.com/assets/colab-badge.svg\" alt=\"Open In Colab\"/></a>"
      ]
    },
    {
      "cell_type": "markdown",
      "source": [
        "Reedhima Juneja 1024230091"
      ],
      "metadata": {
        "id": "Z2lxSpTcI3Cj"
      }
    },
    {
      "cell_type": "markdown",
      "source": [
        "Question 1:"
      ],
      "metadata": {
        "id": "GPzjs7-aI6He"
      }
    },
    {
      "cell_type": "code",
      "source": [
        "n=int(input(\"Enter number: \"))\n",
        "if(n>17):\n",
        "  print(2*(n-17))\n",
        "else:\n",
        "  print(17-n)"
      ],
      "metadata": {
        "colab": {
          "base_uri": "https://localhost:8080/"
        },
        "id": "dUqKFtoSI5em",
        "outputId": "efa54dfc-a481-466c-fb2d-98fdb05873ca"
      },
      "execution_count": 5,
      "outputs": [
        {
          "output_type": "stream",
          "name": "stdout",
          "text": [
            "Enter number: 5\n",
            "12\n"
          ]
        }
      ]
    },
    {
      "cell_type": "markdown",
      "source": [
        "Question 2"
      ],
      "metadata": {
        "id": "wyTHdcJ6Jbru"
      }
    },
    {
      "cell_type": "code",
      "execution_count": 7,
      "metadata": {
        "colab": {
          "base_uri": "https://localhost:8080/"
        },
        "id": "UC96MlqYHYNH",
        "outputId": "5e7768e9-8f75-445f-ed20-62d8814709b7"
      },
      "outputs": [
        {
          "output_type": "stream",
          "name": "stdout",
          "text": [
            "Enter number: 2500\n",
            "False\n"
          ]
        }
      ],
      "source": [
        "n=int(input(\"Enter number: \"))\n",
        "if(100<=n<=1000 or n==2000):\n",
        "  print(\"True\")\n",
        "else:\n",
        "  print(\"False\")"
      ]
    },
    {
      "cell_type": "markdown",
      "source": [
        "QUestion 3"
      ],
      "metadata": {
        "id": "K42ufEtHKg0f"
      }
    },
    {
      "cell_type": "code",
      "source": [
        "s=input(\"Enter word: \")\n",
        "print(s[::-1])"
      ],
      "metadata": {
        "colab": {
          "base_uri": "https://localhost:8080/"
        },
        "id": "3y_YMdACKgto",
        "outputId": "9d4f3359-bb49-4e0f-ca2c-205d1db75165"
      },
      "execution_count": 8,
      "outputs": [
        {
          "output_type": "stream",
          "name": "stdout",
          "text": [
            "Enter word: robot\n",
            "tobor\n"
          ]
        }
      ]
    },
    {
      "cell_type": "markdown",
      "source": [
        "Question 4"
      ],
      "metadata": {
        "id": "DEyqACqLLBqg"
      }
    },
    {
      "cell_type": "code",
      "source": [
        "s=input(\"Enter word: \")\n",
        "counts = {\"UPPERCASE\": 0, \"LOWERCASE\": 0}\n",
        "\n",
        "for char in s:\n",
        "  if char.isupper():\n",
        "    counts[\"UPPERCASE\"] += 1\n",
        "  elif char.islower():\n",
        "    counts[\"LOWERCASE\"] += 1\n",
        "print(\"Uppercase: \", counts[\"UPPERCASE\"], \" \", \"Lowercase: \", counts[\"LOWERCASE\"])"
      ],
      "metadata": {
        "colab": {
          "base_uri": "https://localhost:8080/"
        },
        "id": "axtpq-YKKgsb",
        "outputId": "42e16497-2299-4016-dfe9-3fd85ff5557e"
      },
      "execution_count": 10,
      "outputs": [
        {
          "output_type": "stream",
          "name": "stdout",
          "text": [
            "Enter word: TABular\n",
            "Uppercase:  3   Lowercase:  4\n"
          ]
        }
      ]
    },
    {
      "cell_type": "markdown",
      "source": [
        "Question 5"
      ],
      "metadata": {
        "id": "riSp78OJL3Du"
      }
    },
    {
      "cell_type": "code",
      "source": [
        "s=input(\"Enter list: \")\n",
        "print(list(set(s)))"
      ],
      "metadata": {
        "colab": {
          "base_uri": "https://localhost:8080/"
        },
        "id": "Pg0gIVQ6MNgu",
        "outputId": "2cd1cbfd-e276-44e1-e22f-a008c9c46797"
      },
      "execution_count": 13,
      "outputs": [
        {
          "output_type": "stream",
          "name": "stdout",
          "text": [
            "Enter list: 1 2 3 4 5 5 4 3 2 1\n",
            "['2', '3', '4', '5', '1', ' ']\n"
          ]
        }
      ]
    },
    {
      "cell_type": "markdown",
      "source": [
        "Question 6:"
      ],
      "metadata": {
        "id": "BkQdMjXFM7Ng"
      }
    },
    {
      "cell_type": "code",
      "source": [
        "def get_even_numbers(lst):\n",
        "    even_list = []\n",
        "    for num in lst:\n",
        "        if num % 2 == 0:\n",
        "            even_list.append(num)\n",
        "    return even_list\n",
        "\n",
        "# Example usage\n",
        "sample = [1, 2, 3, 4, 5, 6, 7, 8, 9]\n",
        "print(\"Even numbers:\", get_even_numbers(sample))"
      ],
      "metadata": {
        "id": "bwEiBzIGM83w"
      },
      "execution_count": null,
      "outputs": []
    },
    {
      "cell_type": "markdown",
      "source": [
        "Question 7:"
      ],
      "metadata": {
        "id": "tSEst_4sNddZ"
      }
    },
    {
      "cell_type": "code",
      "source": [
        "def robot():\n",
        "    def move():\n",
        "        print(\"The robot is moving...\")\n",
        "    move()\n",
        "robot()"
      ],
      "metadata": {
        "id": "X-PMpvSINwlZ"
      },
      "execution_count": null,
      "outputs": []
    },
    {
      "cell_type": "markdown",
      "source": [
        "Question 8"
      ],
      "metadata": {
        "id": "7xOKORdbNfj_"
      }
    },
    {
      "cell_type": "code",
      "source": [
        "def student(name, age, course):\n",
        "    pass\n",
        "\n",
        "# Assign function attributes\n",
        "student.__doc__ = \"This function stores student info\"\n",
        "student.arguments = [\"name\", \"age\", \"course\"]\n",
        "\n",
        "print(\"Function arguments:\", student.arguments)"
      ],
      "metadata": {
        "id": "rL2tSyB5N5bh"
      },
      "execution_count": null,
      "outputs": []
    },
    {
      "cell_type": "markdown",
      "source": [
        "Question 9"
      ],
      "metadata": {
        "id": "r0SinAFGNmnS"
      }
    },
    {
      "cell_type": "code",
      "source": [
        "def move_robot(x, y, direction):\n",
        "    if direction == \"up\":\n",
        "        y += 1\n",
        "    elif direction == \"down\":\n",
        "        y -= 1\n",
        "    elif direction == \"left\":\n",
        "        x -= 1\n",
        "    elif direction == \"right\":\n",
        "        x += 1\n",
        "    return (x, y)\n",
        "\n",
        "# Example usage\n",
        "print(move_robot(0, 0, \"up\"))     # (0,1)\n",
        "print(move_robot(2, 3, \"left\"))   # (1,3)"
      ],
      "metadata": {
        "id": "r5JoRj9PN-I5"
      },
      "execution_count": null,
      "outputs": []
    },
    {
      "cell_type": "markdown",
      "source": [
        "Question 10"
      ],
      "metadata": {
        "id": "KhtgiNSRNncR"
      }
    },
    {
      "cell_type": "code",
      "source": [
        "def classify_temperature(temp):\n",
        "    if temp < 15:\n",
        "        return \"Cold\"\n",
        "    elif 15 <= temp <= 30:\n",
        "        return \"Moderate\"\n",
        "    else:\n",
        "        return \"Hot\"\n",
        "\n",
        "# Example usage\n",
        "print(classify_temperature(10))  # Cold\n",
        "print(classify_temperature(25))  # Moderate\n",
        "print(classify_temperature(35))  # Hot"
      ],
      "metadata": {
        "id": "5cAd80o8ODhY"
      },
      "execution_count": null,
      "outputs": []
    },
    {
      "cell_type": "markdown",
      "source": [
        "Question 11"
      ],
      "metadata": {
        "id": "5zWxEoxHNpOw"
      }
    },
    {
      "cell_type": "code",
      "source": [
        "def is_goal_reached(path):\n",
        "    x, y = 0, 0  # starting position\n",
        "    for move in path:\n",
        "        if move == \"up\":\n",
        "            y += 1\n",
        "        elif move == \"down\":\n",
        "            y -= 1\n",
        "        elif move == \"left\":\n",
        "            x -= 1\n",
        "        elif move == \"right\":\n",
        "            x += 1\n",
        "    return (x, y) == (2, 0)\n",
        "\n",
        "# Example usage\n",
        "print(is_goal_reached([\"up\", \"right\", \"right\", \"down\"]))  # True\n",
        "print(is_goal_reached([\"up\", \"right\"]))                   # False"
      ],
      "metadata": {
        "id": "sUjkrHpfOJr-"
      },
      "execution_count": null,
      "outputs": []
    },
    {
      "cell_type": "markdown",
      "source": [
        "Question 12"
      ],
      "metadata": {
        "id": "ClytbapkNsJA"
      }
    },
    {
      "cell_type": "code",
      "source": [
        "class Student:\n",
        "    def __init__(self, student_id, student_name, student_class):\n",
        "        self.student_id = student_id\n",
        "        self.student_name = student_name\n",
        "        self.student_class = student_class\n",
        "\n",
        "    def display(self):\n",
        "        print(f\"ID: {self.student_id}, Name: {self.student_name}, Class: {self.student_class}\")\n",
        "\n",
        "# Example usage\n",
        "s1 = Student(101, \"Alice\", \"BTech-1st Year\")\n",
        "s1.display()"
      ],
      "metadata": {
        "id": "OE2nNIakON-h"
      },
      "execution_count": null,
      "outputs": []
    },
    {
      "cell_type": "markdown",
      "source": [
        "Question 13"
      ],
      "metadata": {
        "id": "SD8iv9-ZNtV7"
      }
    },
    {
      "cell_type": "code",
      "source": [
        "class Student:\n",
        "    def __init__(self, student_id, student_name, student_class):\n",
        "        self.student_id = student_id\n",
        "        self.student_name = student_name\n",
        "        self.student_class = student_class\n",
        "\n",
        "# Create instances\n",
        "student1 = Student(101, \"Alice\", \"CSE-A\")\n",
        "student2 = Student(102, \"Bob\", \"CSE-B\")\n",
        "\n",
        "# Print attributes\n",
        "print(\"Student 1 → ID:\", student1.student_id, \", Name:\", student1.student_name, \", Class:\", student1.student_class)\n",
        "print(\"Student 2 → ID:\", student2.student_id, \", Name:\", student2.student_name, \", Class:\", student2.student_class)"
      ],
      "metadata": {
        "id": "U82BeVNqOTK8"
      },
      "execution_count": null,
      "outputs": []
    },
    {
      "cell_type": "markdown",
      "source": [
        "Question 14"
      ],
      "metadata": {
        "id": "fmnG7lliNuJ1"
      }
    },
    {
      "cell_type": "code",
      "source": [
        "import math\n",
        "\n",
        "class Circle:\n",
        "    def __init__(self, radius):\n",
        "        self.radius = radius\n",
        "\n",
        "    def area(self):\n",
        "        return math.pi * (self.radius ** 2)\n",
        "\n",
        "    def perimeter(self):\n",
        "        return 2 * math.pi * self.radius\n",
        "\n",
        "# Example usage\n",
        "c = Circle(5)\n",
        "print(\"Area:\", c.area())\n",
        "print(\"Perimeter:\", c.perimeter())"
      ],
      "metadata": {
        "id": "HVlvZWOTOYcl"
      },
      "execution_count": null,
      "outputs": []
    },
    {
      "cell_type": "markdown",
      "source": [
        "Question 15"
      ],
      "metadata": {
        "id": "cOKjX_n2NvEO"
      }
    },
    {
      "cell_type": "code",
      "source": [
        "class StringClass:\n",
        "    def __init__(self):\n",
        "        self.text = \"\"\n",
        "\n",
        "    def get_String(self):\n",
        "        self.text = input(\"Enter a string: \")\n",
        "\n",
        "    def print_String(self):\n",
        "        print(self.text.upper())\n",
        "\n",
        "# Example usage\n",
        "s = StringClass()\n",
        "s.get_String()\n",
        "s.print_String()"
      ],
      "metadata": {
        "id": "Ue9kkRzoOZ7Z"
      },
      "execution_count": null,
      "outputs": []
    },
    {
      "cell_type": "markdown",
      "source": [
        "Question 16"
      ],
      "metadata": {
        "id": "nyqcuZw4Od67"
      }
    },
    {
      "cell_type": "code",
      "source": [
        "class Robot:\n",
        "    def __init__(self, name, task):\n",
        "        self.name = name\n",
        "        self.task = task\n",
        "        self.battery_level = 100\n",
        "\n",
        "    def perform_task(self):\n",
        "        if self.battery_level >= 10:\n",
        "            print(f\"{self.name} is performing task: {self.task}\")\n",
        "            self.battery_level -= 10\n",
        "        else:\n",
        "            print(f\"{self.name} has low battery. Please recharge!\")\n",
        "\n",
        "    def recharge(self):\n",
        "        self.battery_level = 100\n",
        "        print(f\"{self.name} is fully recharged.\")\n",
        "\n",
        "    def status(self):\n",
        "        print(f\"Name: {self.name}, Task: {self.task}, Battery: {self.battery_level}%\")\n",
        "\n",
        "# Example usage\n",
        "r1 = Robot(\"RoboX\", \"Cleaning\")\n",
        "r1.status()\n",
        "r1.perform_task()\n",
        "r1.status()\n",
        "r1.recharge()\n",
        "r1.status()"
      ],
      "metadata": {
        "id": "uD-BYcnHOf3k"
      },
      "execution_count": null,
      "outputs": []
    }
  ]
}