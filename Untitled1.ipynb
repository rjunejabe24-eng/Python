{
  "nbformat": 4,
  "nbformat_minor": 0,
  "metadata": {
    "colab": {
      "provenance": [],
      "authorship_tag": "ABX9TyMEKNHc7t6zrcFpFmunpeRd",
      "include_colab_link": true
    },
    "kernelspec": {
      "name": "python3",
      "display_name": "Python 3"
    },
    "language_info": {
      "name": "python"
    }
  },
  "cells": [
    {
      "cell_type": "markdown",
      "metadata": {
        "id": "view-in-github",
        "colab_type": "text"
      },
      "source": [
        "<a href=\"https://colab.research.google.com/github/rjunejabe24-eng/Python/blob/main/Untitled1.ipynb\" target=\"_parent\"><img src=\"https://colab.research.google.com/assets/colab-badge.svg\" alt=\"Open In Colab\"/></a>"
      ]
    },
    {
      "cell_type": "markdown",
      "source": [
        "Worksheet 1\n",
        "(Python):\n",
        "Reedhima Juneja\n",
        "*1024230091* *italicized text*"
      ],
      "metadata": {
        "id": "GkPwVT-Tq3ca"
      }
    },
    {
      "cell_type": "markdown",
      "source": [
        "Reedhima Juneja: 1024230091\n",
        "Worksheet 1"
      ],
      "metadata": {
        "id": "ixldVHdtxrWY"
      }
    },
    {
      "cell_type": "markdown",
      "source": [
        "Question 1:"
      ],
      "metadata": {
        "id": "l6lEM6j1xvwl"
      }
    },
    {
      "cell_type": "code",
      "source": [
        "print(\"Twinkle, twinkle, little star, \\nHow I wonder what you are! Up above the world so high, \\nLike a diamond in the sky. \\nTwinkle, twinkle, little star, \\nHow I wonder what you are\")"
      ],
      "metadata": {
        "colab": {
          "base_uri": "https://localhost:8080/"
        },
        "id": "ADfEsuNhxlKC",
        "outputId": "f34e5606-13ac-4d8b-b460-087ad309a56d"
      },
      "execution_count": null,
      "outputs": [
        {
          "output_type": "stream",
          "name": "stdout",
          "text": [
            "Twinkle, twinkle, little star, \n",
            "How I wonder what you are! Up above the world so high, \n",
            "Like a diamond in the sky. \n",
            "Twinkle, twinkle, little star, \n",
            "How I wonder what you are\n"
          ]
        }
      ]
    },
    {
      "cell_type": "markdown",
      "source": [
        "Question 2"
      ],
      "metadata": {
        "id": "9US14b2Ox53p"
      }
    },
    {
      "cell_type": "code",
      "source": [
        "first= input(\"Enter your first name: \")\n",
        "last= input(\"Enter your last name: \")\n",
        "print(last, \" \", first)"
      ],
      "metadata": {
        "colab": {
          "base_uri": "https://localhost:8080/"
        },
        "id": "a6paaVkirA7o",
        "outputId": "0009c1e4-f9fa-49dc-ea4c-79266615bdc3"
      },
      "execution_count": null,
      "outputs": [
        {
          "output_type": "stream",
          "name": "stdout",
          "text": [
            "Enter your first name: are\n",
            "Enter your last name: you\n",
            "you   are\n"
          ]
        }
      ]
    },
    {
      "cell_type": "markdown",
      "source": [
        "Question 3:"
      ],
      "metadata": {
        "id": "0NVVa5phx-5d"
      }
    },
    {
      "cell_type": "code",
      "source": [
        "r=int(input(\"Enter radius: \"))\n",
        "print(\"The area of circle is: \", (22/7)*r*r)"
      ],
      "metadata": {
        "id": "VZ2gRkaYyAmm"
      },
      "execution_count": null,
      "outputs": []
    },
    {
      "cell_type": "markdown",
      "source": [
        "Question 4"
      ],
      "metadata": {
        "id": "W-OS4wFUyGNs"
      }
    },
    {
      "cell_type": "code",
      "source": [
        "color_list = [\"Red\",\"Green\",\"White\" ,\"Black\"]\n",
        "print(color_list[0],\" , \", color_list[-1])"
      ],
      "metadata": {
        "id": "ic4qVsxnyQjf"
      },
      "execution_count": null,
      "outputs": []
    },
    {
      "cell_type": "markdown",
      "source": [
        "Question 5"
      ],
      "metadata": {
        "id": "Gtitd3LsyRdk"
      }
    },
    {
      "cell_type": "code",
      "source": [
        "n=int(input(\"Enter number: \"))\n",
        "print(n+(n*n)+(n*n*n))"
      ],
      "metadata": {
        "id": "JeRlqnLlyMRD"
      },
      "execution_count": null,
      "outputs": []
    },
    {
      "cell_type": "markdown",
      "source": [
        "Question 6"
      ],
      "metadata": {
        "id": "TvAuPxj9yWKC"
      }
    },
    {
      "cell_type": "code",
      "source": [
        "values=input(\"enter the numbers: \")\n",
        "list = values.split(\",\")\n",
        "print(list)"
      ],
      "metadata": {
        "colab": {
          "base_uri": "https://localhost:8080/"
        },
        "id": "iTzqUbUkyYce",
        "outputId": "e8996274-330e-457a-c7f1-2ac1271f61bd"
      },
      "execution_count": null,
      "outputs": [
        {
          "output_type": "stream",
          "name": "stdout",
          "text": [
            "enter the numbers: 1,2,3,4,5,6,7\n",
            "['1', '2', '3', '4', '5', '6', '7']\n"
          ]
        }
      ]
    },
    {
      "cell_type": "markdown",
      "source": [
        "Question 7"
      ],
      "metadata": {
        "id": "JPOZul5m0trR"
      }
    },
    {
      "cell_type": "code",
      "source": [
        "c=int(input(\"Enter temp in celcius: \"))\n",
        "print(\"Temp in Fahrenheit is: \", (c*9/5)+32)"
      ],
      "metadata": {
        "colab": {
          "base_uri": "https://localhost:8080/"
        },
        "id": "wSs3WkrJ0vXM",
        "outputId": "fb240f93-f6d7-47a8-f32c-9f216e40091c"
      },
      "execution_count": null,
      "outputs": [
        {
          "output_type": "stream",
          "name": "stdout",
          "text": [
            "Enter temp in celcius: 5\n",
            "Temp in Fahrenheit is:  41.0\n"
          ]
        }
      ]
    },
    {
      "cell_type": "markdown",
      "source": [
        "Question 8:"
      ],
      "metadata": {
        "id": "iRkNkCNA1SBI"
      }
    },
    {
      "cell_type": "code",
      "source": [
        "x=int(input(\"Enter number 1: \"))\n",
        "y=int(input(\"Enter number 2: \"))\n",
        "temp=x\n",
        "x=y\n",
        "y=temp\n",
        "print(\"1st number: \",x)\n",
        "print(\"2nd number \",y+1)"
      ],
      "metadata": {
        "id": "ygfDZynz1Tgz",
        "colab": {
          "base_uri": "https://localhost:8080/"
        },
        "outputId": "7b9f3d64-8118-4891-bcdf-e25e1dc07dc3"
      },
      "execution_count": 8,
      "outputs": [
        {
          "output_type": "stream",
          "name": "stdout",
          "text": [
            "Enter number 1: 5\n",
            "Enter number 2: 7\n",
            "1st number:  7\n",
            "2nd number  6\n"
          ]
        }
      ]
    },
    {
      "cell_type": "markdown",
      "source": [
        "Question 9:"
      ],
      "metadata": {
        "id": "ZJ-E-dRA3ZGZ"
      }
    },
    {
      "cell_type": "code",
      "source": [
        "n=int(input(\"Enter number: \"))\n",
        "if(n%2==0):\n",
        "  print(n , \"is even\")\n",
        "else: print(n , \" is odd\")"
      ],
      "metadata": {
        "colab": {
          "base_uri": "https://localhost:8080/"
        },
        "id": "X0J-o6sb3bAh",
        "outputId": "b4acfea5-b6dd-45aa-86ea-2750e4ec5c66"
      },
      "execution_count": 15,
      "outputs": [
        {
          "output_type": "stream",
          "name": "stdout",
          "text": [
            "Enter number: 5\n",
            "5  is odd\n"
          ]
        }
      ]
    },
    {
      "cell_type": "markdown",
      "source": [
        "Question 10:"
      ],
      "metadata": {
        "id": "600keVB74su7"
      }
    },
    {
      "cell_type": "code",
      "source": [
        "year = int(input(\"Enter a year: \"))\n",
        "\n",
        "if (year % 400 == 0) or (year % 4 == 0 and year % 100 != 0):\n",
        "    print(year, \"is a Leap Year\")\n",
        "else:\n",
        "    print(year, \"is NOT a Leap Year\")"
      ],
      "metadata": {
        "id": "gdXNmmv24sEj"
      },
      "execution_count": null,
      "outputs": []
    },
    {
      "cell_type": "markdown",
      "source": [
        "Question 11:"
      ],
      "metadata": {
        "id": "61-sWxO85ylA"
      }
    },
    {
      "cell_type": "code",
      "source": [
        "import math\n",
        "\n",
        "x1, y1 = map(float, input(\"Enter coordinates of first point (x1 y1): \").split())\n",
        "x2, y2 = map(float, input(\"Enter coordinates of second point (x2 y2): \").split())\n",
        "\n",
        "distance = math.sqrt((x2 - x1) ** 2 + (y2 - y1) ** 2)\n",
        "print(\"Euclidean Distance:\", distance)"
      ],
      "metadata": {
        "id": "rOW5skZQ52TD"
      },
      "execution_count": null,
      "outputs": []
    },
    {
      "cell_type": "markdown",
      "source": [
        "Question 12:"
      ],
      "metadata": {
        "id": "sRyNO24s6AsF"
      }
    },
    {
      "cell_type": "code",
      "source": [
        "a = int(input(\"Enter first angle: \"))\n",
        "b = int(input(\"Enter second angle: \"))\n",
        "c = int(input(\"Enter third angle: \"))\n",
        "\n",
        "if a + b + c == 180 and a > 0 and b > 0 and c > 0:\n",
        "    print(\"The angles form a Triangle\")\n",
        "else:\n",
        "    print(\"The angles do NOT form a Triangle\")"
      ],
      "metadata": {
        "id": "d5oxiSgX6CJS"
      },
      "execution_count": null,
      "outputs": []
    },
    {
      "cell_type": "markdown",
      "source": [
        "Question 13"
      ],
      "metadata": {
        "id": "uUJae5Xn6J7H"
      }
    },
    {
      "cell_type": "code",
      "source": [
        "P = float(input(\"Enter Principal amount: \"))\n",
        "R = float(input(\"Enter Rate of Interest: \"))\n",
        "T = int(input(\"Enter Time (in years): \"))\n",
        "\n",
        "A = P * ((1 + R / 100) ** T)\n",
        "CI = A - P\n",
        "\n",
        "print(\"Compound Interest:\", CI)"
      ],
      "metadata": {
        "id": "w6nWreg66OVt"
      },
      "execution_count": null,
      "outputs": []
    },
    {
      "cell_type": "markdown",
      "source": [
        "Question 14:"
      ],
      "metadata": {
        "id": "eqgAZrDs6VC4"
      }
    },
    {
      "cell_type": "code",
      "source": [
        "n = int(input(\"Enter a positive integer: \"))\n",
        "\n",
        "if n <= 1:\n",
        "    print(n, \"is NOT a Prime Number\")\n",
        "else:\n",
        "    for i in range(2, int(n ** 0.5) + 1):\n",
        "        if n % i == 0:\n",
        "            print(n, \"is NOT a Prime Number\")\n",
        "            break\n",
        "    else:\n",
        "        print(n, \"is a Prime Number\")"
      ],
      "metadata": {
        "id": "BozhC6oP6XK1"
      },
      "execution_count": null,
      "outputs": []
    },
    {
      "cell_type": "markdown",
      "source": [
        "Question 15"
      ],
      "metadata": {
        "id": "oIGabQcw6mc5"
      }
    },
    {
      "cell_type": "code",
      "source": [
        "N = int(input(\"Enter a positive integer N: \"))\n",
        "\n",
        "sum_squares = sum(i ** 2 for i in range(1, N + 1))\n",
        "print(\"Sum of squares:\", sum_squares)"
      ],
      "metadata": {
        "id": "omMqU80Y6nx8"
      },
      "execution_count": null,
      "outputs": []
    },
    {
      "cell_type": "markdown",
      "source": [],
      "metadata": {
        "id": "RqJnXHAI5yi_"
      }
    }
  ]
}